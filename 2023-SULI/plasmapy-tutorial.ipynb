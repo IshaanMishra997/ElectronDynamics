{
  "cells": [
    {
      "cell_type": "markdown",
      "id": "5b8f9968",
      "metadata": {
        "id": "5b8f9968"
      },
      "source": [
        "# SULI Computational Workshop"
      ]
    },
    {
      "cell_type": "markdown",
      "id": "d8f8eb61",
      "metadata": {
        "id": "d8f8eb61"
      },
      "source": [
        "[`astropy.units`]: https://docs.astropy.org/en/stable/units/index.html\n",
        "[`plasmapy.particles`]: https://docs.plasmapy.org/en/stable/particles/index.html\n",
        "[`plasmapy.formulary`]: https://docs.plasmapy.org/en/stable/formulary/index.html\n",
        "[**PlasmaPy**]: https://docs.plasmapy.org/en/stable/\n",
        "\n",
        "Today's computational workshop will introduce [**PlasmaPy**]: an open source Python package for plasma research and education. \n",
        "\n",
        "After a brief recap of [`astropy.units`] 🌌, we'll move on to [`plasmapy.particles`] ⚛️ and [`plasmapy.formulary`] 🧮."
      ]
    },
    {
      "cell_type": "markdown",
      "id": "ef4c39a8",
      "metadata": {
        "id": "ef4c39a8"
      },
      "source": [
        "## Preliminaries\n",
        "\n",
        "At the beginning of the workshop, please execute the following cell.  If you need to restart this notebook, this cell will need to be executed again.\n",
        "\n",
        "If using Colab, click `Run anyway` when prompted, and then `Restart runtime` when the installation finishes.\n",
        " \n",
        "To execute a cell in a Jupyter notebook, press `Shift + Enter`.  "
      ]
    },
    {
      "cell_type": "code",
      "execution_count": 4,
      "id": "fa326226",
      "metadata": {
        "id": "fa326226"
      },
      "outputs": [],
      "source": [
        "import sys\n",
        "\n",
        "if 'google.colab' in str(get_ipython()):\n",
        "    if 'plasmapy' not in sys.modules:\n",
        "        !pip install plasmapy==2023.5.1 requests==2.27.1\n",
        "        \n",
        "import numpy as np\n",
        "import astropy.units as u\n",
        "from astropy import constants as const\n",
        "\n",
        "from plasmapy.particles import *\n",
        "from plasmapy.formulary import *\n",
        "\n",
        "import warnings\n",
        "warnings.simplefilter(action='ignore')"
      ]
    },
    {
      "cell_type": "markdown",
      "id": "6e8f0d92",
      "metadata": {
        "id": "6e8f0d92"
      },
      "source": [
        "## Quick review of Astropy units"
      ]
    },
    {
      "cell_type": "markdown",
      "id": "93658d4f",
      "metadata": {
        "id": "93658d4f"
      },
      "source": [
        "[`astropy.units`]: https://docs.astropy.org/en/stable/units/index.html\n",
        "\n",
        "PlasmaPy makes heavy use of [`astropy.units`]. We typically import `astropy.units` as `u`."
      ]
    },
    {
      "cell_type": "code",
      "execution_count": 5,
      "id": "8c20320a",
      "metadata": {
        "id": "8c20320a"
      },
      "outputs": [],
      "source": [
        "import astropy.units as u"
      ]
    },
    {
      "cell_type": "markdown",
      "id": "e9ccbb06",
      "metadata": {
        "id": "e9ccbb06"
      },
      "source": [
        "We can create a physical quantity by multiplying or dividing a number or array with a unit."
      ]
    },
    {
      "cell_type": "code",
      "execution_count": 6,
      "id": "8437650a",
      "metadata": {
        "id": "8437650a",
        "outputId": "e6cb5263-6685-4eef-9467-d8ab4b843116",
        "colab": {
          "base_uri": "https://localhost:8080/",
          "height": 37
        }
      },
      "outputs": [
        {
          "output_type": "execute_result",
          "data": {
            "text/plain": [
              "<Quantity 60. km>"
            ],
            "text/latex": "$60 \\; \\mathrm{km}$"
          },
          "metadata": {},
          "execution_count": 6
        }
      ],
      "source": [
        "60*u.km"
      ]
    },
    {
      "cell_type": "markdown",
      "id": "ccc6659f",
      "metadata": {
        "id": "ccc6659f"
      },
      "source": [
        "[`Quantity`]: https://docs.astropy.org/en/stable/api/astropy.units.Quantity.html#astropy.units.Quantity\n",
        "\n",
        "This operation creates a [`Quantity`]: a number, sequence, or array that has been assigned a physical unit.  We can create [`Quantity`] objects with compound units."
      ]
    },
    {
      "cell_type": "code",
      "execution_count": 7,
      "id": "4932159b",
      "metadata": {
        "id": "4932159b",
        "outputId": "01937996-9f2d-40b9-a36a-1c42b903fb3a",
        "colab": {
          "base_uri": "https://localhost:8080/"
        }
      },
      "outputs": [
        {
          "output_type": "stream",
          "name": "stdout",
          "text": [
            "88.0 mi / h\n"
          ]
        }
      ],
      "source": [
        "V = 88*u.imperial.mile/u.hour\n",
        "print(V)"
      ]
    },
    {
      "cell_type": "markdown",
      "id": "a60e9ea9",
      "metadata": {
        "id": "a60e9ea9"
      },
      "source": [
        "[`Quantity`]: https://docs.astropy.org/en/stable/api/astropy.units.Quantity.html#astropy.units.Quantity\n",
        "\n",
        "Operations between [`Quantity`] objects handle unit conversions automatically. We can add [`Quantity`] objects together as long as their units have the same physical type."
      ]
    },
    {
      "cell_type": "code",
      "execution_count": 8,
      "id": "65e08284",
      "metadata": {
        "id": "65e08284",
        "outputId": "77c073ce-f27a-4645-9dd6-c2edfbc18ad3",
        "colab": {
          "base_uri": "https://localhost:8080/",
          "height": 37
        }
      },
      "outputs": [
        {
          "output_type": "execute_result",
          "data": {
            "text/plain": [
              "<Quantity 1.25 m>"
            ],
            "text/latex": "$1.25 \\; \\mathrm{m}$"
          },
          "metadata": {},
          "execution_count": 8
        }
      ],
      "source": [
        "1*u.m + 25*u.cm"
      ]
    },
    {
      "cell_type": "markdown",
      "id": "edb43067",
      "metadata": {
        "id": "edb43067"
      },
      "source": [
        "Units get handled automatically during operations like multiplication, division, and exponentiation."
      ]
    },
    {
      "cell_type": "code",
      "execution_count": 10,
      "id": "c36788db",
      "metadata": {
        "id": "c36788db",
        "outputId": "7351cf91-447d-4402-c8bf-ae8e33642534",
        "colab": {
          "base_uri": "https://localhost:8080/",
          "height": 37
        }
      },
      "outputs": [
        {
          "output_type": "execute_result",
          "data": {
            "text/plain": [
              "<Quantity 8. m3>"
            ],
            "text/latex": "$8 \\; \\mathrm{m^{3}}$"
          },
          "metadata": {},
          "execution_count": 10
        }
      ],
      "source": [
        "(2*u.m)**3"
      ]
    },
    {
      "cell_type": "markdown",
      "id": "b910a84b",
      "metadata": {
        "id": "b910a84b"
      },
      "source": [
        "[`Quantity`]: https://docs.astropy.org/en/stable/api/astropy.units.Quantity.html#astropy.units.Quantity\n",
        "[`to()`]: https://docs.astropy.org/en/stable/api/astropy.units.Quantity.html#astropy.units.Quantity.to\n",
        "\n",
        "The [`to()`] method allows us to convert a [`Quantity`] to different units of the same *physical type*. This method accepts strings that represent a unit (including compound units) or a unit object."
      ]
    },
    {
      "cell_type": "code",
      "execution_count": 11,
      "id": "80f4f133",
      "metadata": {
        "id": "80f4f133",
        "outputId": "b525a41e-7c5a-4b77-f8c7-ded9e4c77d30",
        "colab": {
          "base_uri": "https://localhost:8080/",
          "height": 38
        }
      },
      "outputs": [
        {
          "output_type": "execute_result",
          "data": {
            "text/plain": [
              "<Quantity 39.33952 m / s>"
            ],
            "text/latex": "$39.33952 \\; \\mathrm{\\frac{m}{s}}$"
          },
          "metadata": {},
          "execution_count": 11
        }
      ],
      "source": [
        "V.to(\"m/s\")"
      ]
    },
    {
      "cell_type": "code",
      "execution_count": 15,
      "id": "21c46ef1",
      "metadata": {
        "id": "21c46ef1",
        "outputId": "f9ac098c-b50e-4a44-b7b1-3e393f1ed032",
        "colab": {
          "base_uri": "https://localhost:8080/",
          "height": 38
        }
      },
      "outputs": [
        {
          "output_type": "execute_result",
          "data": {
            "text/plain": [
              "<Quantity 0.03933952 km / s>"
            ],
            "text/latex": "$0.03933952 \\; \\mathrm{\\frac{km}{s}}$"
          },
          "metadata": {},
          "execution_count": 15
        }
      ],
      "source": [
        "V.to(u.km/u.s)"
      ]
    },
    {
      "cell_type": "markdown",
      "id": "07c3b9c1",
      "metadata": {
        "id": "07c3b9c1"
      },
      "source": [
        "[electron-volt]: https://en.wikipedia.org/wiki/Electronvolt\n",
        "[Boltzmann constant]: https://en.wikipedia.org/wiki/Boltzmann_constant\n",
        "[`astropy.units`]: https://docs.astropy.org/en/stable/units/index.html\n",
        "[equivalencies]: https://docs.astropy.org/en/stable/units/equivalencies.html\n",
        "[`temperature_energy()`]: https://docs.astropy.org/en/stable/units/equivalencies.html#temperature-energy-equivalency\n",
        "\n",
        "Plasma scientists often use the [electron-volt] (eV) as a unit of temperature 🌡️. This is a shortcut for describing the thermal energy per particle, or more accurately the temperature multiplied by the [Boltzmann constant], $k_B$. \n",
        "\n",
        "Because an electron-volt is a unit of energy rather than temperature, we cannot directly convert electron-volts to kelvin. To handle non-standard unit conversions, [`astropy.units`] allows the use of [equivalencies]. The conversion from eV to K can be done by using the [`temperature_energy()`] equivalency."
      ]
    },
    {
      "cell_type": "code",
      "execution_count": 18,
      "id": "afac5b4a",
      "metadata": {
        "id": "afac5b4a",
        "outputId": "2374fe5f-d696-4f96-f834-7472f0aee289",
        "colab": {
          "base_uri": "https://localhost:8080/",
          "height": 37
        }
      },
      "outputs": [
        {
          "output_type": "execute_result",
          "data": {
            "text/plain": [
              "<Quantity 11604.51812155 K>"
            ],
            "text/latex": "$11604.518 \\; \\mathrm{K}$"
          },
          "metadata": {},
          "execution_count": 18
        }
      ],
      "source": [
        "(1*u.eV).to(\"K\", equivalencies=u.temperature_energy())"
      ]
    },
    {
      "cell_type": "markdown",
      "id": "b714de6a",
      "metadata": {
        "id": "b714de6a"
      },
      "source": [
        "[`astropy.constants`]: https://docs.astropy.org/en/stable/constants/index.html\n",
        "\n",
        "[`astropy.constants`] provides access the most commonly needed physical constants."
      ]
    },
    {
      "cell_type": "code",
      "execution_count": 20,
      "id": "746a79a7",
      "metadata": {
        "id": "746a79a7"
      },
      "outputs": [],
      "source": [
        "import astropy.constants as const"
      ]
    },
    {
      "cell_type": "code",
      "execution_count": 21,
      "id": "9c058f48",
      "metadata": {
        "id": "9c058f48",
        "outputId": "97611114-1670-4098-f868-3f80beb4ddc5",
        "colab": {
          "base_uri": "https://localhost:8080/",
          "height": 38
        }
      },
      "outputs": [
        {
          "output_type": "execute_result",
          "data": {
            "text/plain": [
              "<<class 'astropy.constants.codata2018.CODATA2018'> name='Speed of light in vacuum' value=299792458.0 uncertainty=0.0 unit='m / s' reference='CODATA 2018'>"
            ],
            "text/latex": "$2.9979246 \\times 10^{8} \\; \\mathrm{\\frac{m}{s}}$"
          },
          "metadata": {},
          "execution_count": 21
        }
      ],
      "source": [
        "const.c"
      ]
    },
    {
      "cell_type": "code",
      "execution_count": 22,
      "id": "975d21c9",
      "metadata": {
        "id": "975d21c9",
        "outputId": "03665579-22e4-421e-a676-a674b82f8708",
        "colab": {
          "base_uri": "https://localhost:8080/",
          "height": 37
        }
      },
      "outputs": [
        {
          "output_type": "execute_result",
          "data": {
            "text/plain": [
              "<<class 'astropy.constants.codata2018.CODATA2018'> name='Electron mass' value=9.1093837015e-31 uncertainty=2.8e-40 unit='kg' reference='CODATA 2018'>"
            ],
            "text/latex": "$9.1093837 \\times 10^{-31} \\; \\mathrm{kg}$"
          },
          "metadata": {},
          "execution_count": 22
        }
      ],
      "source": [
        "const.m_e"
      ]
    },
    {
      "cell_type": "markdown",
      "id": "97a8d49a",
      "metadata": {
        "id": "97a8d49a"
      },
      "source": [
        "## Particles"
      ]
    },
    {
      "cell_type": "markdown",
      "id": "0c7eeced",
      "metadata": {
        "id": "0c7eeced"
      },
      "source": [
        "[`plasmapy.particles`]: ../../particles/index.rst\n",
        "\n",
        "The [`plasmapy.particles`] subpackage contains functions to access basic particle data, and classes to represent particles."
      ]
    },
    {
      "cell_type": "code",
      "execution_count": 24,
      "id": "24125310",
      "metadata": {
        "id": "24125310"
      },
      "outputs": [],
      "source": [
        "from plasmapy.particles import *"
      ]
    },
    {
      "cell_type": "markdown",
      "id": "e224284a",
      "metadata": {
        "id": "e224284a"
      },
      "source": [
        "### Particle properties"
      ]
    },
    {
      "cell_type": "markdown",
      "id": "7696deba",
      "metadata": {
        "id": "7696deba"
      },
      "source": [
        "[representation of a particle]: https://docs.plasmapy.org/en/stable/api/plasmapy.particles.ParticleLike.html#particlelike\n",
        "\n",
        "There are several functions that provide information about different particles that might be present in a plasma. The input of these functions is a [representation of a particle], such as a string for the atomic symbol or the element name."
      ]
    },
    {
      "cell_type": "code",
      "execution_count": 25,
      "id": "006b8d3e",
      "metadata": {
        "id": "006b8d3e",
        "outputId": "7688a0b9-162b-4044-f3e6-e50b704c6227",
        "colab": {
          "base_uri": "https://localhost:8080/"
        }
      },
      "outputs": [
        {
          "output_type": "execute_result",
          "data": {
            "text/plain": [
              "26"
            ]
          },
          "metadata": {},
          "execution_count": 25
        }
      ],
      "source": [
        "atomic_number(\"Fe\")"
      ]
    },
    {
      "cell_type": "markdown",
      "id": "2aa5af34",
      "metadata": {
        "id": "2aa5af34"
      },
      "source": [
        "[atomic number]: https://en.wikipedia.org/wiki/Atomic_number\n",
        "\n",
        "We can provide a number that represents the [atomic number]."
      ]
    },
    {
      "cell_type": "code",
      "execution_count": 26,
      "id": "69958326",
      "metadata": {
        "id": "69958326",
        "outputId": "ed43cdb7-bd0f-4433-a248-87aff0d43bdf",
        "colab": {
          "base_uri": "https://localhost:8080/",
          "height": 36
        }
      },
      "outputs": [
        {
          "output_type": "execute_result",
          "data": {
            "text/plain": [
              "'iron'"
            ],
            "application/vnd.google.colaboratory.intrinsic+json": {
              "type": "string"
            }
          },
          "metadata": {},
          "execution_count": 26
        }
      ],
      "source": [
        "element_name(26)"
      ]
    },
    {
      "cell_type": "markdown",
      "id": "cca89cef",
      "metadata": {
        "id": "cca89cef"
      },
      "source": [
        "We can also provide standard symbols or the names of particles."
      ]
    },
    {
      "cell_type": "code",
      "execution_count": 27,
      "id": "16ca5b6f",
      "metadata": {
        "id": "16ca5b6f",
        "outputId": "e682dec4-2372-48eb-d2a5-fc9a94a8a602",
        "colab": {
          "base_uri": "https://localhost:8080/"
        }
      },
      "outputs": [
        {
          "output_type": "execute_result",
          "data": {
            "text/plain": [
              "True"
            ]
          },
          "metadata": {},
          "execution_count": 27
        }
      ],
      "source": [
        "is_stable(\"e-\")#electron"
      ]
    },
    {
      "cell_type": "code",
      "execution_count": 28,
      "id": "35d8e49e",
      "metadata": {
        "id": "35d8e49e",
        "outputId": "b3e1499c-456c-401f-de5b-833fac11252b",
        "colab": {
          "base_uri": "https://localhost:8080/"
        }
      },
      "outputs": [
        {
          "output_type": "execute_result",
          "data": {
            "text/plain": [
              "1"
            ]
          },
          "metadata": {},
          "execution_count": 28
        }
      ],
      "source": [
        "charge_number(\"proton\")"
      ]
    },
    {
      "cell_type": "markdown",
      "id": "e498e01e",
      "metadata": {
        "id": "e498e01e"
      },
      "source": [
        "[alpha particle]: https://en.wikipedia.org/wiki/Alpha_particle\n",
        "\n",
        "The symbols for many particles can even be used directly, such as for an [alpha particle] ⚛️. To create an \"α\" in a Jupyter notebook, type `\\alpha` and press `tab`."
      ]
    },
    {
      "cell_type": "code",
      "execution_count": 32,
      "id": "493a2d6f",
      "metadata": {
        "id": "493a2d6f",
        "outputId": "03e94109-3dda-4d64-9d19-bfd8e460c909",
        "colab": {
          "base_uri": "https://localhost:8080/",
          "height": 37
        }
      },
      "outputs": [
        {
          "output_type": "execute_result",
          "data": {
            "text/plain": [
              "<Quantity 6.64465719e-27 kg>"
            ],
            "text/latex": "$6.6446572 \\times 10^{-27} \\; \\mathrm{kg}$"
          },
          "metadata": {},
          "execution_count": 32
        }
      ],
      "source": [
        "particle_mass(\"alpha\")"
      ]
    },
    {
      "cell_type": "markdown",
      "id": "8f2e5b30",
      "metadata": {
        "id": "8f2e5b30"
      },
      "source": [
        "[mass number]: https://en.wikipedia.org/wiki/Mass_number\n",
        "[`Quantity`]: https://docs.astropy.org/en/stable/units/quantity.html#quantity\n",
        "[`astropy.units`]: https://docs.astropy.org/en/stable/units/index.html\n",
        "\n",
        "We can represent isotopes with the atomic symbol followed by a hyphen and the [mass number]. Let's use `half_life` to return the half-life of a radioactive particle in seconds as a [`Quantity`]."
      ]
    },
    {
      "cell_type": "code",
      "execution_count": 33,
      "id": "94fcf452",
      "metadata": {
        "id": "94fcf452",
        "outputId": "5a9c43a8-0f0e-436e-d781-0f5be040336f",
        "colab": {
          "base_uri": "https://localhost:8080/",
          "height": 37
        }
      },
      "outputs": [
        {
          "output_type": "execute_result",
          "data": {
            "text/plain": [
              "<Quantity 3.888e+08 s>"
            ],
            "text/latex": "$3.888 \\times 10^{8} \\; \\mathrm{s}$"
          },
          "metadata": {},
          "execution_count": 33
        }
      ],
      "source": [
        "half_life(\"T\")"
      ]
    },
    {
      "cell_type": "markdown",
      "id": "58ab7782",
      "metadata": {
        "id": "58ab7782"
      },
      "source": [
        "We typically represent an ion in a string by putting together the atomic symbol or isotope symbol, a space, the charge number, and the sign of the charge."
      ]
    },
    {
      "cell_type": "code",
      "execution_count": 34,
      "id": "a65e15da",
      "metadata": {
        "id": "a65e15da",
        "outputId": "95af5e9d-807a-4972-c395-7d2bf5b8be1f",
        "colab": {
          "base_uri": "https://localhost:8080/"
        }
      },
      "outputs": [
        {
          "output_type": "execute_result",
          "data": {
            "text/plain": [
              "13"
            ]
          },
          "metadata": {},
          "execution_count": 34
        }
      ],
      "source": [
        "charge_number(\"Fe-56 13+\")"
      ]
    },
    {
      "cell_type": "markdown",
      "id": "ce4886cf",
      "metadata": {
        "id": "ce4886cf"
      },
      "source": [
        "[particle-like]: https://docs.plasmapy.org/en/latest/glossary.html#term-particle-like\n",
        "\n",
        "Functions in `plasmapy.particles` are quite flexible in terms of string inputs representing particles. An input is *[particle-like]* if it can be used to represent a physical particle.  "
      ]
    },
    {
      "cell_type": "code",
      "execution_count": 35,
      "id": "05e03a8b",
      "metadata": {
        "id": "05e03a8b",
        "outputId": "32f5aef5-3d55-4e62-aa18-01c58baff4fd",
        "colab": {
          "base_uri": "https://localhost:8080/",
          "height": 37
        }
      },
      "outputs": [
        {
          "output_type": "execute_result",
          "data": {
            "text/plain": [
              "<Quantity 9.28703048e-26 kg>"
            ],
            "text/latex": "$9.2870305 \\times 10^{-26} \\; \\mathrm{kg}$"
          },
          "metadata": {},
          "execution_count": 35
        }
      ],
      "source": [
        "particle_mass(\"iron-56 +13\")"
      ]
    },
    {
      "cell_type": "code",
      "execution_count": 36,
      "id": "0dd9541b",
      "metadata": {
        "id": "0dd9541b",
        "outputId": "0d8a1b58-5f31-4a19-c2f0-acb69afa7444",
        "colab": {
          "base_uri": "https://localhost:8080/",
          "height": 37
        }
      },
      "outputs": [
        {
          "output_type": "execute_result",
          "data": {
            "text/plain": [
              "<Quantity 9.28703048e-26 kg>"
            ],
            "text/latex": "$9.2870305 \\times 10^{-26} \\; \\mathrm{kg}$"
          },
          "metadata": {},
          "execution_count": 36
        }
      ],
      "source": [
        "particle_mass(\"iron-56+++++++++++++\")"
      ]
    },
    {
      "cell_type": "markdown",
      "id": "d3adf3a6",
      "metadata": {
        "id": "d3adf3a6"
      },
      "source": [
        "Most of these functions take additional arguments, with `Z` representing the charge number of an ion and `mass_numb` representing the mass number of an isotope. These arguments are [*keyword-only*](https://docs.plasmapy.org/en/latest/glossary.html#term-keyword-only) to avoid ambiguity."
      ]
    },
    {
      "cell_type": "code",
      "execution_count": 37,
      "id": "61e0f960",
      "metadata": {
        "id": "61e0f960",
        "outputId": "08246e04-ad3b-42a4-a908-fb880212e41f",
        "colab": {
          "base_uri": "https://localhost:8080/",
          "height": 37
        }
      },
      "outputs": [
        {
          "output_type": "execute_result",
          "data": {
            "text/plain": [
              "<Quantity 9.28703048e-26 kg>"
            ],
            "text/latex": "$9.2870305 \\times 10^{-26} \\; \\mathrm{kg}$"
          },
          "metadata": {},
          "execution_count": 37
        }
      ],
      "source": [
        "particle_mass(\"Fe\",Z=13,mass_numb=56)"
      ]
    },
    {
      "cell_type": "markdown",
      "id": "53a1d993",
      "metadata": {
        "id": "53a1d993"
      },
      "source": [
        "### Particle objects"
      ]
    },
    {
      "cell_type": "markdown",
      "id": "3c2c3835",
      "metadata": {
        "id": "3c2c3835"
      },
      "source": [
        "[`Particle`]: https://docs.plasmapy.org/en/stable/api/plasmapy.particles.particle_class.Particle.html#plasmapy.particles.particle_class.Particle\n",
        "\n",
        "Up until now, we have been using functions that accept representations of particles and then return particle properties. With the [`Particle`] class, we can create objects that represent physical particles."
      ]
    },
    {
      "cell_type": "code",
      "execution_count": 40,
      "id": "fe9f824a",
      "metadata": {
        "id": "fe9f824a"
      },
      "outputs": [],
      "source": [
        "proton=Particle(\"p+\")\n",
        "electron=Particle(\"electron\")\n",
        "iron56_nucleus = Particle(\"Fe\", Z=26,mass_numb=56)"
      ]
    },
    {
      "cell_type": "markdown",
      "id": "160df55b",
      "metadata": {
        "id": "160df55b"
      },
      "source": [
        "[`Particle`]: https://docs.plasmapy.org/en/stable/api/plasmapy.particles.particle_class.Particle.html#plasmapy.particles.particle_class.Particle\n",
        "\n",
        "Particle properties can be accessed via attributes of the [`Particle`] class."
      ]
    },
    {
      "cell_type": "code",
      "execution_count": 41,
      "id": "bebcc477",
      "metadata": {
        "id": "bebcc477",
        "outputId": "4c128dbc-f418-4440-c3a7-8c7d991b1ca5",
        "colab": {
          "base_uri": "https://localhost:8080/",
          "height": 37
        }
      },
      "outputs": [
        {
          "output_type": "execute_result",
          "data": {
            "text/plain": [
              "<Quantity 1.67262192e-27 kg>"
            ],
            "text/latex": "$1.6726219 \\times 10^{-27} \\; \\mathrm{kg}$"
          },
          "metadata": {},
          "execution_count": 41
        }
      ],
      "source": [
        "proton.mass\n"
      ]
    },
    {
      "cell_type": "code",
      "execution_count": 42,
      "id": "df0f2eed",
      "metadata": {
        "id": "df0f2eed",
        "outputId": "7a15defa-03e2-4e6b-b9e7-ac9a13f2ff6f",
        "colab": {
          "base_uri": "https://localhost:8080/",
          "height": 37
        }
      },
      "outputs": [
        {
          "output_type": "execute_result",
          "data": {
            "text/plain": [
              "<Quantity -1.60217663e-19 C>"
            ],
            "text/latex": "$-1.6021766 \\times 10^{-19} \\; \\mathrm{C}$"
          },
          "metadata": {},
          "execution_count": 42
        }
      ],
      "source": [
        "electron.charge"
      ]
    },
    {
      "cell_type": "code",
      "execution_count": 43,
      "id": "116cd6ad",
      "metadata": {
        "id": "116cd6ad",
        "outputId": "d79bb5aa-9c49-4fda-ffa0-04ec676f6dde",
        "colab": {
          "base_uri": "https://localhost:8080/"
        }
      },
      "outputs": [
        {
          "output_type": "execute_result",
          "data": {
            "text/plain": [
              "-1"
            ]
          },
          "metadata": {},
          "execution_count": 43
        }
      ],
      "source": [
        "electron.charge_number"
      ]
    },
    {
      "cell_type": "code",
      "execution_count": 45,
      "id": "99d22bd3",
      "metadata": {
        "id": "99d22bd3",
        "outputId": "9c145b7f-3dea-4f8d-aca6-a70c349ea1cd",
        "colab": {
          "base_uri": "https://localhost:8080/",
          "height": 37
        }
      },
      "outputs": [
        {
          "output_type": "execute_result",
          "data": {
            "text/plain": [
              "<Quantity 7.88686781e-11 J>"
            ],
            "text/latex": "$7.8868678 \\times 10^{-11} \\; \\mathrm{J}$"
          },
          "metadata": {},
          "execution_count": 45
        }
      ],
      "source": [
        "iron56_nucleus.binding_energy"
      ]
    },
    {
      "cell_type": "markdown",
      "id": "8986cef8",
      "metadata": {
        "id": "8986cef8"
      },
      "source": [
        "#### Antiparticles\n",
        "\n",
        "[`Particle`]: https://docs.plasmapy.org/en/stable/api/plasmapy.particles.particle_class.Particle.html#plasmapy.particles.particle_class.Particle\n",
        "\n",
        "We can get antiparticles of fundamental particles by using the `antiparticle` attribute of a [`Particle`]."
      ]
    },
    {
      "cell_type": "code",
      "execution_count": 46,
      "id": "f6663952",
      "metadata": {
        "id": "f6663952",
        "outputId": "4218e555-0b9a-4dbd-a78c-9d76d78f642a",
        "colab": {
          "base_uri": "https://localhost:8080/"
        }
      },
      "outputs": [
        {
          "output_type": "execute_result",
          "data": {
            "text/plain": [
              "Particle(\"e+\")"
            ]
          },
          "metadata": {},
          "execution_count": 46
        }
      ],
      "source": [
        "electron.antiparticle"
      ]
    },
    {
      "cell_type": "markdown",
      "id": "bf40e592",
      "metadata": {
        "id": "bf40e592"
      },
      "source": [
        "[`Particle`]: ../../api/plasmapy.particles.particle_class.Particle.rst\n",
        "\n",
        "We can also use the tilde (`~`) operator on a [`Particle`] to get its antiparticle."
      ]
    },
    {
      "cell_type": "code",
      "execution_count": 47,
      "id": "180a1edf",
      "metadata": {
        "id": "180a1edf",
        "outputId": "a2c2da5a-7903-4e97-eeb5-40b9399293c8",
        "colab": {
          "base_uri": "https://localhost:8080/"
        }
      },
      "outputs": [
        {
          "output_type": "execute_result",
          "data": {
            "text/plain": [
              "Particle(\"p-\")"
            ]
          },
          "metadata": {},
          "execution_count": 47
        }
      ],
      "source": [
        "~proton"
      ]
    },
    {
      "cell_type": "markdown",
      "id": "8500bc48",
      "metadata": {
        "id": "8500bc48"
      },
      "source": [
        "#### Ionization and recombination\n",
        "\n",
        "[`Particle`]: https://docs.plasmapy.org/en/stable/api/plasmapy.particles.particle_class.Particle.html#plasmapy.particles.particle_class.Particle\n",
        "\n",
        "The `recombine()` and `ionize()` methods of a [`Particle`] representing an ion or neutral atom will return a different [`Particle`] with fewer or more electrons."
      ]
    },
    {
      "cell_type": "code",
      "execution_count": 50,
      "id": "186b1dfa",
      "metadata": {
        "id": "186b1dfa",
        "outputId": "35a1c8ad-003b-4329-8a84-cd25ddc426f7",
        "colab": {
          "base_uri": "https://localhost:8080/"
        }
      },
      "outputs": [
        {
          "output_type": "execute_result",
          "data": {
            "text/plain": [
              "Particle(\"D 1+\")"
            ]
          },
          "metadata": {},
          "execution_count": 50
        }
      ],
      "source": [
        "deuterium = Particle(\"D 0+\")\n",
        "deuterium.ionize()"
      ]
    },
    {
      "cell_type": "markdown",
      "id": "4ee95241",
      "metadata": {
        "id": "4ee95241"
      },
      "source": [
        "When provided with a number, these methods tell how many bound electrons to add or remove."
      ]
    },
    {
      "cell_type": "code",
      "execution_count": 51,
      "id": "242b53bd",
      "metadata": {
        "id": "242b53bd",
        "outputId": "a1c258d5-46dd-4461-c244-74c9d43debe8",
        "colab": {
          "base_uri": "https://localhost:8080/"
        }
      },
      "outputs": [
        {
          "output_type": "execute_result",
          "data": {
            "text/plain": [
              "Particle(\"He-4 0+\")"
            ]
          },
          "metadata": {},
          "execution_count": 51
        }
      ],
      "source": [
        "alpha = Particle(\"alpha\")\n",
        "alpha.recombine(2)"
      ]
    },
    {
      "cell_type": "markdown",
      "id": "8ebf2176",
      "metadata": {
        "id": "8ebf2176"
      },
      "source": [
        "[`Particle`]: https://docs.plasmapy.org/en/stable/api/plasmapy.particles.particle_class.Particle.html#plasmapy.particles.particle_class.Particle\n",
        "\n",
        "\n",
        "If the ``inplace`` keyword is set to `True`, then the [`Particle`] will be replaced with the new particle."
      ]
    },
    {
      "cell_type": "code",
      "execution_count": 53,
      "id": "bb2716c0",
      "metadata": {
        "id": "bb2716c0",
        "outputId": "b4a03c0d-6f40-4157-a5b7-3a60a3a9e628",
        "colab": {
          "base_uri": "https://localhost:8080/"
        }
      },
      "outputs": [
        {
          "output_type": "stream",
          "name": "stdout",
          "text": [
            "Ar 1+\n"
          ]
        }
      ],
      "source": [
        "argon = Particle(\"Ar 0+\")\n",
        "argon.ionize(inplace = True)\n",
        "print(argon)"
      ]
    },
    {
      "cell_type": "markdown",
      "id": "e5302bef",
      "metadata": {
        "id": "e5302bef"
      },
      "source": [
        "### Custom particles"
      ]
    },
    {
      "cell_type": "markdown",
      "id": "4c8c2a63",
      "metadata": {
        "id": "4c8c2a63"
      },
      "source": [
        "[`CustomParticle`]: https://docs.plasmapy.org/en/stable/api/plasmapy.particles.particle_class.CustomParticle.html#plasmapy.particles.particle_class.CustomParticle\n",
        "\n",
        "\n",
        "Sometimes we want to use a particle with custom properties.  For example, we might want to represent an average ion in a multi-species plasma.  For that we can use [`CustomParticle`]."
      ]
    },
    {
      "cell_type": "code",
      "execution_count": 55,
      "id": "35b94505",
      "metadata": {
        "id": "35b94505"
      },
      "outputs": [],
      "source": [
        "cp = CustomParticle(9e-26*u.kg, 2.18e-18*u.C,symbol=\"Fe 13.6+\")"
      ]
    },
    {
      "cell_type": "markdown",
      "id": "dfc19404",
      "metadata": {
        "id": "dfc19404"
      },
      "source": [
        "[`Particle`]: https://docs.plasmapy.org/en/stable/api/plasmapy.particles.particle_class.Particle.html#plasmapy.particles.particle_class.Particle\n",
        "[`CustomParticle`]: https://docs.plasmapy.org/en/stable/api/plasmapy.particles.particle_class.CustomParticle.html#plasmapy.particles.particle_class.CustomParticle\n",
        "\n",
        "Many of the attributes of [`CustomParticle`] are the same as in [`Particle`]."
      ]
    },
    {
      "cell_type": "code",
      "execution_count": 56,
      "id": "8a4b412b",
      "metadata": {
        "id": "8a4b412b",
        "outputId": "f6a973aa-9d39-4cb3-ba58-7b044cc4a460",
        "colab": {
          "base_uri": "https://localhost:8080/",
          "height": 37
        }
      },
      "outputs": [
        {
          "output_type": "execute_result",
          "data": {
            "text/plain": [
              "<Quantity 9.e-26 kg>"
            ],
            "text/latex": "$9 \\times 10^{-26} \\; \\mathrm{kg}$"
          },
          "metadata": {},
          "execution_count": 56
        }
      ],
      "source": [
        "cp.mass"
      ]
    },
    {
      "cell_type": "code",
      "execution_count": 59,
      "id": "a2da2b3b",
      "metadata": {
        "id": "a2da2b3b",
        "outputId": "bdc3496a-ba9e-4a3f-f197-24d9ec03df43",
        "colab": {
          "base_uri": "https://localhost:8080/",
          "height": 36
        }
      },
      "outputs": [
        {
          "output_type": "execute_result",
          "data": {
            "text/plain": [
              "'Fe 13.6+'"
            ],
            "application/vnd.google.colaboratory.intrinsic+json": {
              "type": "string"
            }
          },
          "metadata": {},
          "execution_count": 59
        }
      ],
      "source": [
        "cp.symbol"
      ]
    },
    {
      "cell_type": "code",
      "execution_count": 57,
      "id": "ecb450f6",
      "metadata": {
        "id": "ecb450f6",
        "outputId": "e854c2d2-ef1c-49ef-ac81-8fcdd7034e10",
        "colab": {
          "base_uri": "https://localhost:8080/",
          "height": 37
        }
      },
      "outputs": [
        {
          "output_type": "execute_result",
          "data": {
            "text/plain": [
              "<Quantity 2.18e-18 C>"
            ],
            "text/latex": "$2.18 \\times 10^{-18} \\; \\mathrm{C}$"
          },
          "metadata": {},
          "execution_count": 57
        }
      ],
      "source": [
        "cp.charge"
      ]
    },
    {
      "cell_type": "markdown",
      "id": "21a992a9",
      "metadata": {
        "id": "21a992a9"
      },
      "source": [
        "[`numpy.nan`]: https://numpy.org/doc/stable/reference/constants.html#numpy.nan\n",
        "\n",
        "If we do not include one of the physical quantities, it gets set to [`numpy.nan`] (not a number) in the appropriate units."
      ]
    },
    {
      "cell_type": "code",
      "execution_count": 60,
      "id": "a31c421a",
      "metadata": {
        "id": "a31c421a",
        "outputId": "3a84bc59-df56-478e-80d7-fdc49e9f85ef",
        "colab": {
          "base_uri": "https://localhost:8080/",
          "height": 37
        }
      },
      "outputs": [
        {
          "output_type": "execute_result",
          "data": {
            "text/plain": [
              "<Quantity nan C>"
            ],
            "text/latex": "${\\rm NaN} \\; \\mathrm{C}$"
          },
          "metadata": {},
          "execution_count": 60
        }
      ],
      "source": [
        "CustomParticle(9.3e-26*u.kg).charge"
      ]
    },
    {
      "cell_type": "markdown",
      "id": "6292a1f3",
      "metadata": {
        "id": "6292a1f3"
      },
      "source": [
        "[`CustomParticle`]: https://docs.plasmapy.org/en/stable/api/plasmapy.particles.particle_class.CustomParticle.html#plasmapy.particles.particle_class.CustomParticle\n",
        "\n",
        "[`CustomParticle`] objects can be used with many of the functions in `plasmapy.formulary`, with greater compatibility expected in the future."
      ]
    },
    {
      "cell_type": "markdown",
      "id": "0f2b0634",
      "metadata": {
        "id": "0f2b0634"
      },
      "source": [
        "### Particle lists"
      ]
    },
    {
      "cell_type": "markdown",
      "id": "7939cfad",
      "metadata": {
        "id": "7939cfad"
      },
      "source": [
        "[`ParticleList`]: https://docs.plasmapy.org/en/stable/api/plasmapy.particles.particle_collections.ParticleList.html\n",
        "[`CustomParticle`]: https://docs.plasmapy.org/en/stable/api/plasmapy.particles.particle_class.CustomParticle.html#plasmapy.particles.particle_class.CustomParticle\n",
        "[`Particle`]: https://docs.plasmapy.org/en/stable/api/plasmapy.particles.particle_class.Particle.html#plasmapy.particles.particle_class.Particle\n",
        "\n",
        "The [`ParticleList`] class is a container for [`Particle`] and [`CustomParticle`] objects."
      ]
    },
    {
      "cell_type": "code",
      "execution_count": 61,
      "id": "30cc7d36",
      "metadata": {
        "id": "30cc7d36"
      },
      "outputs": [],
      "source": [
        "iron_ions = ParticleList([\"Fe 12+\", \"Fe 13+\", \"Fe 14+\"])"
      ]
    },
    {
      "cell_type": "markdown",
      "id": "d56ddb98",
      "metadata": {
        "id": "d56ddb98"
      },
      "source": [
        "[`ParticleList`]: https://docs.plasmapy.org/en/stable/api/plasmapy.particles.particle_collections.ParticleList.html\n",
        "\n",
        "By using a [`ParticleList`], we can access the properties of multiple particles at once."
      ]
    },
    {
      "cell_type": "code",
      "execution_count": 62,
      "id": "2434f71b",
      "metadata": {
        "id": "2434f71b",
        "outputId": "c35639f0-3ff2-4193-9055-83e448db18a3",
        "colab": {
          "base_uri": "https://localhost:8080/",
          "height": 37
        }
      },
      "outputs": [
        {
          "output_type": "execute_result",
          "data": {
            "text/plain": [
              "<Quantity [9.27218729e-26, 9.27209620e-26, 9.27200510e-26] kg>"
            ],
            "text/latex": "$[9.2721873 \\times 10^{-26},~9.2720962 \\times 10^{-26},~9.2720051 \\times 10^{-26}] \\; \\mathrm{kg}$"
          },
          "metadata": {},
          "execution_count": 62
        }
      ],
      "source": [
        "iron_ions.mass"
      ]
    },
    {
      "cell_type": "code",
      "execution_count": 63,
      "id": "14a431dd",
      "metadata": {
        "id": "14a431dd",
        "outputId": "112abf50-e827-4c74-87a8-5ecedf5c593c",
        "colab": {
          "base_uri": "https://localhost:8080/",
          "height": 37
        }
      },
      "outputs": [
        {
          "output_type": "execute_result",
          "data": {
            "text/plain": [
              "<Quantity [1.92261196e-18, 2.08282962e-18, 2.24304729e-18] C>"
            ],
            "text/latex": "$[1.922612 \\times 10^{-18},~2.0828296 \\times 10^{-18},~2.2430473 \\times 10^{-18}] \\; \\mathrm{C}$"
          },
          "metadata": {},
          "execution_count": 63
        }
      ],
      "source": [
        "iron_ions.charge"
      ]
    },
    {
      "cell_type": "code",
      "execution_count": 64,
      "id": "48cd1c7a",
      "metadata": {
        "id": "48cd1c7a",
        "outputId": "ea962cee-bb75-4b9d-c3d9-537a47fbdebf",
        "colab": {
          "base_uri": "https://localhost:8080/"
        }
      },
      "outputs": [
        {
          "output_type": "execute_result",
          "data": {
            "text/plain": [
              "['Fe 12+', 'Fe 13+', 'Fe 14+']"
            ]
          },
          "metadata": {},
          "execution_count": 64
        }
      ],
      "source": [
        "iron_ions.symbols"
      ]
    },
    {
      "cell_type": "markdown",
      "id": "cccc6c60",
      "metadata": {
        "id": "cccc6c60"
      },
      "source": [
        "[`ParticleList`]: https://docs.plasmapy.org/en/stable/api/plasmapy.particles.particle_collections.ParticleList.html\n",
        "[`CustomParticle`]: https://docs.plasmapy.org/en/stable/api/plasmapy.particles.particle_class.CustomParticle.html#plasmapy.particles.particle_class.CustomParticle\n",
        "[`Particle`]: https://docs.plasmapy.org/en/stable/api/plasmapy.particles.particle_class.Particle.html#plasmapy.particles.particle_class.Particle\n",
        "\n",
        "\n",
        "We can also create a [`ParticleList`] by adding [`Particle`] and/or [`CustomParticle`] objects together."
      ]
    },
    {
      "cell_type": "code",
      "execution_count": 65,
      "id": "3b953065",
      "metadata": {
        "id": "3b953065",
        "outputId": "efacf4b9-2356-4860-ada2-53e291cfdc0d",
        "colab": {
          "base_uri": "https://localhost:8080/"
        }
      },
      "outputs": [
        {
          "output_type": "execute_result",
          "data": {
            "text/plain": [
              "ParticleList(['p+', 'e-'])"
            ]
          },
          "metadata": {},
          "execution_count": 65
        }
      ],
      "source": [
        "proton + electron"
      ]
    },
    {
      "cell_type": "markdown",
      "id": "b78ee7d2",
      "metadata": {
        "id": "b78ee7d2"
      },
      "source": [
        "We can also get an average particle."
      ]
    },
    {
      "cell_type": "code",
      "execution_count": 66,
      "id": "bf01f619",
      "metadata": {
        "id": "bf01f619",
        "outputId": "fce25d33-70ba-4515-dba7-b6ea590b8e7e",
        "colab": {
          "base_uri": "https://localhost:8080/"
        }
      },
      "outputs": [
        {
          "output_type": "execute_result",
          "data": {
            "text/plain": [
              "CustomParticle(mass=9.272096197546505e-26 kg, charge=2.0828296241999997e-18 C)"
            ]
          },
          "metadata": {},
          "execution_count": 66
        }
      ],
      "source": [
        "iron_ions.average_particle()"
      ]
    },
    {
      "cell_type": "markdown",
      "id": "e9038618",
      "metadata": {
        "id": "e9038618"
      },
      "source": [
        "[`ParticleList`]: https://docs.plasmapy.org/en/stable/api/plasmapy.particles.particle_collections.ParticleList.html\n",
        "\n",
        "[`ParticleList`] objects are also compatible with many of the functions in `plasmapy.formulary`, with improvements likely in the future."
      ]
    },
    {
      "cell_type": "markdown",
      "id": "ebc037f7",
      "metadata": {
        "id": "ebc037f7"
      },
      "source": [
        "### Particle categorization"
      ]
    },
    {
      "cell_type": "markdown",
      "id": "f298538f",
      "metadata": {
        "id": "f298538f"
      },
      "source": [
        "[`ParticleList`]: https://docs.plasmapy.org/en/stable/api/plasmapy.particles.particle_collections.ParticleList.html\n",
        "[`CustomParticle`]: https://docs.plasmapy.org/en/stable/api/plasmapy.particles.particle_class.CustomParticle.html#plasmapy.particles.particle_class.CustomParticle\n",
        "[`Particle`]: https://docs.plasmapy.org/en/stable/api/plasmapy.particles.particle_class.Particle.html#plasmapy.particles.particle_class.Particle\n",
        "\n",
        "The `categories` attribute of a [`Particle`] provides a set of the categories that the [`Particle`] belongs to."
      ]
    },
    {
      "cell_type": "code",
      "execution_count": null,
      "id": "09f122ff",
      "metadata": {
        "id": "09f122ff"
      },
      "outputs": [],
      "source": []
    },
    {
      "cell_type": "markdown",
      "id": "934739a8",
      "metadata": {
        "id": "934739a8"
      },
      "source": [
        "[`Particle`]: https://docs.plasmapy.org/en/stable/api/plasmapy.particles.particle_class.Particle.html#plasmapy.particles.particle_class.Particle\n",
        "\n",
        "The `is_category()` method lets us determine if a [`Particle`] belongs to one or more categories."
      ]
    },
    {
      "cell_type": "code",
      "execution_count": null,
      "id": "d278fa15",
      "metadata": {
        "id": "d278fa15"
      },
      "outputs": [],
      "source": []
    },
    {
      "cell_type": "markdown",
      "id": "6edf5cc1",
      "metadata": {
        "id": "6edf5cc1"
      },
      "source": [
        "[`Particle`]: https://docs.plasmapy.org/en/stable/api/plasmapy.particles.particle_class.Particle.html#plasmapy.particles.particle_class.Particle\n",
        "\n",
        "If we need to be more specific, we can use the `require` keyword for categories that a [`Particle`] must belong to, the `exclude` keyword for categories that the [`Particle`] cannot belong to, and the `any_of` keyword for categories of which a [`Particle`] needs to belong to at least one."
      ]
    },
    {
      "cell_type": "code",
      "execution_count": null,
      "id": "5b5e6ee7",
      "metadata": {
        "id": "5b5e6ee7"
      },
      "outputs": [],
      "source": []
    },
    {
      "cell_type": "markdown",
      "id": "efe199c8",
      "metadata": {
        "id": "efe199c8"
      },
      "source": [
        "### Nuclear reactions"
      ]
    },
    {
      "cell_type": "markdown",
      "id": "58fb006b",
      "metadata": {
        "id": "58fb006b"
      },
      "source": [
        "We can use `plasmapy.particles` to calculate the energy of a nuclear reaction using the `>` operator.  "
      ]
    },
    {
      "cell_type": "code",
      "execution_count": 69,
      "id": "d8a9ab9e",
      "metadata": {
        "id": "d8a9ab9e"
      },
      "outputs": [],
      "source": [
        "deuteron = Particle(\"D+\")\n",
        "triton = Particle(\"T+\")\n",
        "alpha = Particle(\"alpha\")\n",
        "neutron = Particle(\"n\")"
      ]
    },
    {
      "cell_type": "code",
      "execution_count": 70,
      "id": "cb95c644",
      "metadata": {
        "id": "cb95c644"
      },
      "outputs": [],
      "source": [
        "energy = deuteron + triton > alpha + neutron"
      ]
    },
    {
      "cell_type": "code",
      "execution_count": 71,
      "id": "e7a4c236",
      "metadata": {
        "id": "e7a4c236",
        "outputId": "f1d41f4f-cfa7-4022-eee5-a966bdb71102",
        "colab": {
          "base_uri": "https://localhost:8080/",
          "height": 37
        }
      },
      "outputs": [
        {
          "output_type": "execute_result",
          "data": {
            "text/plain": [
              "<Quantity 17.58925276 MeV>"
            ],
            "text/latex": "$17.589253 \\; \\mathrm{MeV}$"
          },
          "metadata": {},
          "execution_count": 71
        }
      ],
      "source": [
        "energy.to(\"MeV\")"
      ]
    },
    {
      "cell_type": "markdown",
      "id": "8bf7e515",
      "metadata": {
        "id": "8bf7e515"
      },
      "source": [
        "If the nuclear reaction is invalid, then an exception is raised with an error message that says why."
      ]
    },
    {
      "cell_type": "code",
      "execution_count": 73,
      "id": "67b32a3a",
      "metadata": {
        "tags": [
          "raises-exception"
        ],
        "id": "67b32a3a",
        "outputId": "b6ae274f-0039-4a68-d008-2640121333a7",
        "colab": {
          "base_uri": "https://localhost:8080/",
          "height": 328
        }
      },
      "outputs": [
        {
          "output_type": "error",
          "ename": "ParticleError",
          "evalue": "ignored",
          "traceback": [
            "\u001b[0;31m---------------------------------------------------------------------------\u001b[0m",
            "\u001b[0;31mParticleError\u001b[0m                             Traceback (most recent call last)",
            "\u001b[0;32m<ipython-input-73-0812ff7566cb>\u001b[0m in \u001b[0;36m<cell line: 1>\u001b[0;34m()\u001b[0m\n\u001b[0;32m----> 1\u001b[0;31m \u001b[0mdeuteron\u001b[0m \u001b[0;34m+\u001b[0m \u001b[0mtriton\u001b[0m \u001b[0;34m>\u001b[0m \u001b[0malpha\u001b[0m \u001b[0;34m+\u001b[0m \u001b[0;36m5\u001b[0m\u001b[0;34m*\u001b[0m\u001b[0mneutron\u001b[0m\u001b[0;34m\u001b[0m\u001b[0;34m\u001b[0m\u001b[0m\n\u001b[0m",
            "\u001b[0;32m/usr/local/lib/python3.10/dist-packages/plasmapy/particles/particle_collections.py\u001b[0m in \u001b[0;36m__gt__\u001b[0;34m(self, other)\u001b[0m\n\u001b[1;32m    227\u001b[0m \u001b[0;34m\u001b[0m\u001b[0m\n\u001b[1;32m    228\u001b[0m         \u001b[0mother_as_particle_list\u001b[0m \u001b[0;34m=\u001b[0m \u001b[0mself\u001b[0m\u001b[0;34m.\u001b[0m\u001b[0m_cast_other_as_particle_list\u001b[0m\u001b[0;34m(\u001b[0m\u001b[0mother\u001b[0m\u001b[0;34m)\u001b[0m\u001b[0;34m\u001b[0m\u001b[0;34m\u001b[0m\u001b[0m\n\u001b[0;32m--> 229\u001b[0;31m         return nuclear_reaction_energy(\n\u001b[0m\u001b[1;32m    230\u001b[0m             \u001b[0mreactants\u001b[0m\u001b[0;34m=\u001b[0m\u001b[0mself\u001b[0m\u001b[0;34m.\u001b[0m\u001b[0msymbols\u001b[0m\u001b[0;34m,\u001b[0m \u001b[0mproducts\u001b[0m\u001b[0;34m=\u001b[0m\u001b[0mother_as_particle_list\u001b[0m\u001b[0;34m.\u001b[0m\u001b[0msymbols\u001b[0m\u001b[0;34m\u001b[0m\u001b[0;34m\u001b[0m\u001b[0m\n\u001b[1;32m    231\u001b[0m         )\n",
            "\u001b[0;32m/usr/local/lib/python3.10/dist-packages/plasmapy/particles/nuclear.py\u001b[0m in \u001b[0;36mnuclear_reaction_energy\u001b[0;34m(*args, **kwargs)\u001b[0m\n\u001b[1;32m    308\u001b[0m \u001b[0;34m\u001b[0m\u001b[0m\n\u001b[1;32m    309\u001b[0m     \u001b[0;32mif\u001b[0m \u001b[0mtotal_baryon_number\u001b[0m\u001b[0;34m(\u001b[0m\u001b[0mreactants\u001b[0m\u001b[0;34m)\u001b[0m \u001b[0;34m!=\u001b[0m \u001b[0mtotal_baryon_number\u001b[0m\u001b[0;34m(\u001b[0m\u001b[0mproducts\u001b[0m\u001b[0;34m)\u001b[0m\u001b[0;34m:\u001b[0m\u001b[0;34m\u001b[0m\u001b[0;34m\u001b[0m\u001b[0m\n\u001b[0;32m--> 310\u001b[0;31m         raise ParticleError(\n\u001b[0m\u001b[1;32m    311\u001b[0m             \u001b[0;34mf\"The baryon number is not conserved for {reactants = } and {products = }.\"\u001b[0m\u001b[0;34m\u001b[0m\u001b[0;34m\u001b[0m\u001b[0m\n\u001b[1;32m    312\u001b[0m         )\n",
            "\u001b[0;31mParticleError\u001b[0m: The baryon number is not conserved for reactants = [Particle(\"D 1+\"), Particle(\"T 1+\")] and products = [Particle(\"He-4 2+\"), Particle(\"n\"), Particle(\"n\"), Particle(\"n\"), Particle(\"n\"), Particle(\"n\")]."
          ]
        }
      ],
      "source": [
        "deuteron + triton > alpha + 5*neutron"
      ]
    },
    {
      "cell_type": "markdown",
      "id": "f065a288",
      "metadata": {
        "id": "f065a288"
      },
      "source": [
        "## PlasmaPy formulary\n",
        "\n",
        "The `plasmapy.formulary` subpackage contains a broad variety of formulas needed by plasma scientists across disciplines, in particular to calculate plasma parameters."
      ]
    },
    {
      "cell_type": "code",
      "execution_count": 74,
      "id": "20c3b9b1",
      "metadata": {
        "id": "20c3b9b1"
      },
      "outputs": [],
      "source": [
        "from plasmapy.formulary import *"
      ]
    },
    {
      "cell_type": "markdown",
      "id": "955ce3dd",
      "metadata": {
        "id": "955ce3dd"
      },
      "source": [
        "### Plasma beta in the solar atmosphere"
      ]
    },
    {
      "cell_type": "markdown",
      "id": "1bb15c25",
      "metadata": {
        "id": "1bb15c25"
      },
      "source": [
        "[Plasma beta]: https://en.wikipedia.org/wiki/Beta_(plasma_physics)\n",
        "\n",
        "[Plasma beta] ($β$) is one of the most fundamental plasma parameters. $β$ is the ratio of the plasma (gas) pressure to the magnetic pressure. How a plasma behaves depends strongly on $β$. When $β ≫ 1$, the magnetic field is not strong enough to exert much of a force on the plasma, so its motions start to resemble a gas. When $β ≪ 1$, magnetic tension and pressure are the dominant macroscopic forces. \n",
        "\n",
        "Let's use [`plasmapy.formulary`](https://docs.plasmapy.org/en/stable/formulary/index.html) to calculate plasma $β$ in different regions of the solar atmosphere and see what we can learn."
      ]
    },
    {
      "cell_type": "markdown",
      "id": "24162ca9",
      "metadata": {
        "id": "24162ca9"
      },
      "source": [
        "#### Solar corona"
      ]
    },
    {
      "cell_type": "markdown",
      "id": "60aa77b5",
      "metadata": {
        "id": "60aa77b5"
      },
      "source": [
        "[solar corona]: https://en.wikipedia.org/wiki/Stellar_corona\n",
        "\n",
        "Let's start by defining some plasma parameters for an active region in the [solar corona]."
      ]
    },
    {
      "cell_type": "code",
      "execution_count": 77,
      "id": "c4b98f58",
      "metadata": {
        "id": "c4b98f58"
      },
      "outputs": [],
      "source": [
        "B_corona = 50*u.G\n",
        "n_corona =  1e9*u.cm**-3\n",
        "T_corona = 1*u.MK"
      ]
    },
    {
      "cell_type": "code",
      "source": [
        "beta(T_corona,n_corona,B_corona)"
      ],
      "metadata": {
        "id": "qe74lVKKO4HK",
        "outputId": "0ea60eae-7fe5-4ae2-b944-1b879d128d3d",
        "colab": {
          "base_uri": "https://localhost:8080/",
          "height": 37
        }
      },
      "id": "qe74lVKKO4HK",
      "execution_count": 78,
      "outputs": [
        {
          "output_type": "execute_result",
          "data": {
            "text/plain": [
              "<Quantity 0.00138798>"
            ],
            "text/latex": "$0.0013879798 \\; \\mathrm{}$"
          },
          "metadata": {},
          "execution_count": 78
        }
      ]
    },
    {
      "cell_type": "markdown",
      "id": "cdc0c334",
      "metadata": {
        "id": "cdc0c334"
      },
      "source": [
        "When we use these parameters in [`beta`](https://docs.plasmapy.org/en/stable/api/plasmapy.formulary.dimensionless.beta.html#plasmapy.formulary.dimensionless.beta), we find that $β$ is quite small so that the corona is *magnetically dominated*."
      ]
    },
    {
      "cell_type": "code",
      "execution_count": 80,
      "id": "98b23229",
      "metadata": {
        "id": "98b23229"
      },
      "outputs": [],
      "source": [
        "T_photosphere = 5800 * u.K\n",
        "B_photosphere = 400*u.G\n",
        "n_photosphere = 1e17*u.cm**-3"
      ]
    },
    {
      "cell_type": "markdown",
      "id": "cb163059",
      "metadata": {
        "id": "cb163059"
      },
      "source": [
        "#### Solar photosphere"
      ]
    },
    {
      "cell_type": "markdown",
      "id": "622e79fb",
      "metadata": {
        "id": "622e79fb"
      },
      "source": [
        "[solar photosphere]: https://en.wikipedia.org/wiki/Sun#Photosphere\n",
        "[sunspots]: https://en.wikipedia.org/wiki/Sun#Sunspot\n",
        "\n",
        "Let's specify some characteristic plasma parameters for the [solar photosphere], away from any [sunspots]."
      ]
    },
    {
      "cell_type": "code",
      "execution_count": 81,
      "id": "dde04a5f",
      "metadata": {
        "id": "dde04a5f",
        "outputId": "d550cb26-d28c-49a4-eda0-be7a6ff1d282",
        "colab": {
          "base_uri": "https://localhost:8080/"
        }
      },
      "outputs": [
        {
          "output_type": "stream",
          "name": "stdout",
          "text": [
            "Help on function beta in module plasmapy.formulary.dimensionless:\n",
            "\n",
            "beta(T: Unit(\"K\"), n: Unit(\"1 / m3\"), B: Unit(\"T\")) -> Unit(dimensionless)\n",
            "    Compute the ratio of thermal pressure to magnetic pressure.\n",
            "    \n",
            "    The beta (:math:`β`) of a plasma is defined by\n",
            "    \n",
            "    .. math::\n",
            "        β = \\frac{p_{th}}{p_{mag}}\n",
            "    \n",
            "    where :math:`p_{th}` is the thermal pressure of the plasma\n",
            "    and :math:`p_{mag}` is the magnetic pressure of the plasma.\n",
            "    \n",
            "    Parameters\n",
            "    ----------\n",
            "    T : `~astropy.units.Quantity`\n",
            "        The temperature of the plasma.\n",
            "    \n",
            "    n : `~astropy.units.Quantity`\n",
            "        The particle density of the plasma.\n",
            "    \n",
            "    B : `~astropy.units.Quantity`\n",
            "        The magnetic field in the plasma.\n",
            "    \n",
            "    Examples\n",
            "    --------\n",
            "    >>> import astropy.units as u\n",
            "    >>> beta(1*u.eV, 1e20*u.m**-3, 1*u.T)\n",
            "    <Quantity 4.0267...e-05>\n",
            "    >>> beta(8.8e3*u.eV, 1e20*u.m**-3, 5.3*u.T)\n",
            "    <Quantity 0.01261...>\n",
            "    \n",
            "    Returns\n",
            "    -------\n",
            "    beta: `~astropy.units.Quantity`\n",
            "        Dimensionless quantity.\n",
            "    \n",
            "    See Also\n",
            "    --------\n",
            "    ~plasmapy.formulary.misc.thermal_pressure\n",
            "    ~plasmapy.formulary.misc.magnetic_pressure\n",
            "\n"
          ]
        }
      ],
      "source": [
        "help(beta)"
      ]
    },
    {
      "cell_type": "markdown",
      "id": "0ba578e6",
      "metadata": {
        "id": "0ba578e6"
      },
      "source": [
        "When we calculate $β$ for the photosphere, we find that it is an order of magnitude larger than 1, so plasma pressure forces are more important than magnetic tension and pressure."
      ]
    },
    {
      "cell_type": "code",
      "execution_count": 83,
      "id": "c5783b30",
      "metadata": {
        "id": "c5783b30",
        "outputId": "89c4d034-1677-4e02-d48e-ffaccb76c31f",
        "colab": {
          "base_uri": "https://localhost:8080/",
          "height": 37
        }
      },
      "outputs": [
        {
          "output_type": "execute_result",
          "data": {
            "text/plain": [
              "<Quantity 12.5785666>"
            ],
            "text/latex": "$12.578567 \\; \\mathrm{}$"
          },
          "metadata": {},
          "execution_count": 83
        }
      ],
      "source": [
        "beta(T=T_photosphere, n=n_photosphere, B=B_photosphere)"
      ]
    },
    {
      "cell_type": "markdown",
      "id": "dee08605",
      "metadata": {
        "id": "dee08605"
      },
      "source": [
        "### Plasma parameters in Earth's magnetosphere"
      ]
    },
    {
      "cell_type": "markdown",
      "id": "9587734f",
      "metadata": {
        "id": "9587734f"
      },
      "source": [
        "[magnetic reconnection]: https://en.wikipedia.org/wiki/Magnetic_reconnection\n",
        "[`plasmapy.formulary`]: https://docs.plasmapy.org/en/stable/formulary/index.html\n",
        "\n",
        "The [*Magnetospheric Multiscale Mission*](https://www.nasa.gov/mission_pages/mms/overview/index.html) (*MMS*) is a constellation of four identical spacecraft. The goal of *MMS* is to investigate the small-scale physics of [magnetic reconnection] in Earth's magnetosphere. In order to do this, the spacecraft need to orbit in a tight configuration.  But how tight does the tetrahedron have to be?  Let's use [`plasmapy.formulary`] to find out."
      ]
    },
    {
      "cell_type": "markdown",
      "id": "706818eb",
      "metadata": {
        "id": "706818eb"
      },
      "source": [
        "#### Physics background"
      ]
    },
    {
      "cell_type": "markdown",
      "id": "e7f1ddf9",
      "metadata": {
        "id": "e7f1ddf9"
      },
      "source": [
        "[Magnetic reconnection]: https://en.wikipedia.org/wiki/Magnetic_reconnection\n",
        "\n",
        "[Magnetic reconnection] is the fundamental plasma process that converts stored magnetic energy into kinetic energy, thermal energy, and particle acceleration.  Reconnection powers solar flares and is a key component of geomagnetic storms in Earth's magnetosphere. Reconnection can also degrade confinement in fusion devices such as tokamaks.\n",
        "\n",
        "The **inertial length** is the characteristic length scale for a particle to get accelerated or decelerated by electromagnetic forces in a plasma.  \n",
        "\n",
        "When the reconnection layer thickness is shorter than the **ion inertial length**, $d_i ≡ c/ω_{pi}$, collisionless effects and the Hall effect enable reconnection to be **fast** (Zweibel & Yamada 2009).  The inner electron diffusion region has a thickness of about the **electron inertial length**, $d_e≡c/ω_{pe}$.  (Here, $ω_{pi}$ and $ω_{pe}$ are the ion and electron plasma frequencies.)\n",
        "\n",
        "**Our goal: calculate $d_i$ and $d_e$ to get an idea of how far the MMS spacecraft should be separated from each other to investigate reconnection.**"
      ]
    },
    {
      "cell_type": "markdown",
      "id": "749fba51",
      "metadata": {
        "id": "749fba51"
      },
      "source": [
        "#### Length scales"
      ]
    },
    {
      "cell_type": "markdown",
      "id": "9db83228",
      "metadata": {
        "id": "9db83228"
      },
      "source": [
        "Let's choose some characteristic plasma parameters for the magnetosphere."
      ]
    },
    {
      "cell_type": "code",
      "execution_count": 85,
      "id": "1f317f40",
      "metadata": {
        "id": "1f317f40"
      },
      "outputs": [],
      "source": [
        "n = 1 * u.cm**-3\n",
        "B = 5 * u.nT \n",
        "T = 10**4.5 * u.K"
      ]
    },
    {
      "cell_type": "markdown",
      "id": "591bef20",
      "metadata": {
        "id": "591bef20"
      },
      "source": [
        "Let's calculate the ion inertial length, $d_i$. On length scales shorter than $d_i$, the Hall effect becomes important as the ions and electrons decouple from each other."
      ]
    },
    {
      "cell_type": "code",
      "execution_count": 87,
      "id": "a717c75f",
      "metadata": {
        "id": "a717c75f",
        "outputId": "329bf0ae-cb9c-46bb-ae59-468ce55e0832",
        "colab": {
          "base_uri": "https://localhost:8080/",
          "height": 37
        }
      },
      "outputs": [
        {
          "output_type": "execute_result",
          "data": {
            "text/plain": [
              "<Quantity 227.71076725 km>"
            ],
            "text/latex": "$227.71077 \\; \\mathrm{km}$"
          },
          "metadata": {},
          "execution_count": 87
        }
      ],
      "source": [
        "inertial_length(n,\"p+\").to(\"km\")"
      ]
    },
    {
      "cell_type": "markdown",
      "id": "5c56977f",
      "metadata": {
        "id": "5c56977f"
      },
      "source": [
        "The reconnection regions should therefore be a few hundred kilometers thick. Let's calculate the electron inertial length next."
      ]
    },
    {
      "cell_type": "code",
      "execution_count": 88,
      "id": "4e5a4dd9",
      "metadata": {
        "id": "4e5a4dd9",
        "outputId": "55e3fb4a-c3c5-4e79-f8fc-33aacc3ca261",
        "colab": {
          "base_uri": "https://localhost:8080/",
          "height": 37
        }
      },
      "outputs": [
        {
          "output_type": "execute_result",
          "data": {
            "text/plain": [
              "<Quantity 5.31409326 km>"
            ],
            "text/latex": "$5.3140933 \\; \\mathrm{km}$"
          },
          "metadata": {},
          "execution_count": 88
        }
      ],
      "source": [
        "inertial_length(n, \"e-\").to(\"km\")"
      ]
    },
    {
      "cell_type": "markdown",
      "id": "bb4b8d8d",
      "metadata": {
        "id": "bb4b8d8d"
      },
      "source": [
        "The electron diffusion region should therefore have a characteristic length scale of a few kilometers, which is significantly smaller than the ion diffusion region."
      ]
    },
    {
      "cell_type": "markdown",
      "id": "2b2875fc",
      "metadata": {
        "id": "2b2875fc"
      },
      "source": [
        "We can also calculate the gyroradii for different particles.  In the most recent version of PlasmaPy, we can calculate the gyroradii for multiple particles at the same time."
      ]
    },
    {
      "cell_type": "code",
      "execution_count": 89,
      "id": "96fee1ef",
      "metadata": {
        "id": "96fee1ef",
        "outputId": "f245d8dc-23ed-4c7a-d737-550f01d32483",
        "colab": {
          "base_uri": "https://localhost:8080/",
          "height": 37
        }
      },
      "outputs": [
        {
          "output_type": "execute_result",
          "data": {
            "text/plain": [
              "<Quantity [ 1.1133278 , 47.70623408] km>"
            ],
            "text/latex": "$[1.1133278,~47.706234] \\; \\mathrm{km}$"
          },
          "metadata": {},
          "execution_count": 89
        }
      ],
      "source": [
        "gyroradius(B, [\"e-\", \"p+\"], T = T).to(\"km\")"
      ]
    },
    {
      "cell_type": "markdown",
      "id": "1b2b32b3",
      "metadata": {
        "id": "1b2b32b3"
      },
      "source": [
        "The four *MMS* spacecraft have separations of ten to hundreds of kilometers, and thus are well-positioned to investigate reconnection in the magnetosphere."
      ]
    },
    {
      "cell_type": "markdown",
      "id": "38e1aff3",
      "metadata": {
        "id": "38e1aff3"
      },
      "source": [
        "#### Frequencies"
      ]
    },
    {
      "cell_type": "markdown",
      "id": "fc1a183f",
      "metadata": {
        "id": "fc1a183f"
      },
      "source": [
        "We can also calculate some of the fundamental frequencies associated with magnetospheric plasma. "
      ]
    },
    {
      "cell_type": "code",
      "execution_count": null,
      "id": "4b9f9403",
      "metadata": {
        "id": "4b9f9403"
      },
      "outputs": [],
      "source": []
    },
    {
      "cell_type": "code",
      "execution_count": null,
      "id": "45b70fdf",
      "metadata": {
        "id": "45b70fdf"
      },
      "outputs": [],
      "source": []
    },
    {
      "cell_type": "code",
      "execution_count": null,
      "id": "a3c42923",
      "metadata": {
        "id": "a3c42923"
      },
      "outputs": [],
      "source": []
    },
    {
      "cell_type": "code",
      "execution_count": null,
      "id": "5cc9c0ca",
      "metadata": {
        "id": "5cc9c0ca"
      },
      "outputs": [],
      "source": []
    },
    {
      "cell_type": "code",
      "execution_count": null,
      "id": "88534868",
      "metadata": {
        "id": "88534868"
      },
      "outputs": [],
      "source": []
    },
    {
      "cell_type": "markdown",
      "id": "de173d13",
      "metadata": {
        "id": "de173d13"
      },
      "source": [
        "In the next part of the workshop, we will go through a notebook on [single particle drifts](https://colab.research.google.com/github/PlasmaPy/PlasmaPy-Demos/blob/main/2023-SULI/single_particle_drifts.ipynb)."
      ]
    }
  ],
  "metadata": {
    "celltoolbar": "Tags",
    "kernelspec": {
      "display_name": "Python 3 (ipykernel)",
      "language": "python",
      "name": "python3"
    },
    "language_info": {
      "codemirror_mode": {
        "name": "ipython",
        "version": 3
      },
      "file_extension": ".py",
      "mimetype": "text/x-python",
      "name": "python",
      "nbconvert_exporter": "python",
      "pygments_lexer": "ipython3",
      "version": "3.11.3"
    },
    "colab": {
      "provenance": []
    }
  },
  "nbformat": 4,
  "nbformat_minor": 5
}